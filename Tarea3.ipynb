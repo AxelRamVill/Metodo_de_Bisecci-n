{
  "nbformat": 4,
  "nbformat_minor": 0,
  "metadata": {
    "colab": {
      "name": "Tarea3.ipynb",
      "provenance": [],
      "collapsed_sections": []
    },
    "kernelspec": {
      "name": "python3",
      "display_name": "Python 3"
    }
  },
  "cells": [
    {
      "cell_type": "code",
      "metadata": {
        "id": "H3C_4Mj5gLc1",
        "outputId": "74157dae-a298-4dac-d7fe-b330312766df",
        "colab": {
          "base_uri": "https://localhost:8080/",
          "height": 281
        }
      },
      "source": [
        "import matplotlib.pyplot as plt\n",
        "import numpy as np\n",
        "\n",
        "def f(x):\n",
        "    y= x**3 + 4*x**2 - 10\n",
        "    return y\n",
        "\n",
        "a=0\n",
        "b=4\n",
        "tol=1e-8\n",
        "n0=50\n",
        "i=1\n",
        "fa=f(a)\n",
        "fb=f(b)\n",
        "\n",
        "while i<=n0:\n",
        "\n",
        "    p=a+(b-a)/2\n",
        "\n",
        "    fp=f(p)\n",
        "\n",
        "    if fp == 0 or (b-a)/2<tol:\n",
        "        print(\"La solucion es \",p,\"despues de \",i,\"iteraciones\")\n",
        "        break\n",
        "\n",
        "    i=i+1\n",
        "    if fa*fp>0:\n",
        "        a=p\n",
        "        fa=fp\n",
        "\n",
        "    else:\n",
        "        b=p\n",
        "        fb=fp\n",
        "\n",
        "if i>=n0:\n",
        "    print(\"El metodo no converge \")\n",
        "  \n",
        "x=np.linspace(-2, 4, 101)\n",
        "plt.plot(x, f(x))\n",
        "plt.grid()\n",
        "plt.show()"
      ],
      "execution_count": 1,
      "outputs": [
        {
          "output_type": "stream",
          "text": [
            "La solucion es  1.3652300164103508 despues de  29 iteraciones\n"
          ],
          "name": "stdout"
        },
        {
          "output_type": "display_data",
          "data": {
            "image/png": "[encoded data removed]",
            "text/plain": [
              "<Figure size 432x288 with 1 Axes>"
            ]
          },
          "metadata": {
            "tags": [],
            "needs_background": "light"
          }
        }
      ]
    },
    {
      "cell_type": "code",
      "metadata": {
        "id": "krQeEKaxgL5q"
      },
      "source": [
        ""
      ],
      "execution_count": null,
      "outputs": []
    }
  ]
}